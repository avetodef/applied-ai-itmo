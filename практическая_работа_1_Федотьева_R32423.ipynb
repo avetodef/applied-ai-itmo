{
  "nbformat": 4,
  "nbformat_minor": 0,
  "metadata": {
    "colab": {
      "provenance": []
    },
    "kernelspec": {
      "name": "python3",
      "display_name": "Python 3"
    },
    "language_info": {
      "name": "python"
    }
  },
  "cells": [
    {
      "cell_type": "markdown",
      "source": [
        "#**Практическая работа №1 - классификация**\n",
        "\n",
        "*Федотьева Софья R32423*\n",
        "\n",
        "---\n",
        "\n"
      ],
      "metadata": {
        "id": "nONhNt0rXNRm"
      }
    },
    {
      "cell_type": "markdown",
      "source": [
        "#Работа с входными данными"
      ],
      "metadata": {
        "id": "detqFZ2bbtIM"
      }
    },
    {
      "cell_type": "markdown",
      "source": [
        "Импорт необходимых библиотек, чтение данных из тренировочного файла"
      ],
      "metadata": {
        "id": "nKySdm1YbDt_"
      }
    },
    {
      "cell_type": "code",
      "execution_count": 9,
      "metadata": {
        "id": "6GMvYa95LPiz",
        "colab": {
          "base_uri": "https://localhost:8080/",
          "height": 317
        },
        "outputId": "627a9e53-e295-45ab-b6a9-9d38318216f8"
      },
      "outputs": [
        {
          "output_type": "execute_result",
          "data": {
            "text/plain": [
              "   tBodyAcc-mean()-X  tBodyAcc-mean()-Y  tBodyAcc-mean()-Z  tBodyAcc-std()-X  \\\n",
              "0           0.288585          -0.020294          -0.132905         -0.995279   \n",
              "1           0.278419          -0.016411          -0.123520         -0.998245   \n",
              "2           0.279653          -0.019467          -0.113462         -0.995380   \n",
              "3           0.279174          -0.026201          -0.123283         -0.996091   \n",
              "4           0.276629          -0.016570          -0.115362         -0.998139   \n",
              "\n",
              "   tBodyAcc-std()-Y  tBodyAcc-std()-Z  tBodyAcc-mad()-X  tBodyAcc-mad()-Y  \\\n",
              "0         -0.983111         -0.913526         -0.995112         -0.983185   \n",
              "1         -0.975300         -0.960322         -0.998807         -0.974914   \n",
              "2         -0.967187         -0.978944         -0.996520         -0.963668   \n",
              "3         -0.983403         -0.990675         -0.997099         -0.982750   \n",
              "4         -0.980817         -0.990482         -0.998321         -0.979672   \n",
              "\n",
              "   tBodyAcc-mad()-Z  tBodyAcc-max()-X  ...  fBodyBodyGyroJerkMag-kurtosis()  \\\n",
              "0         -0.923527         -0.934724  ...                        -0.710304   \n",
              "1         -0.957686         -0.943068  ...                        -0.861499   \n",
              "2         -0.977469         -0.938692  ...                        -0.760104   \n",
              "3         -0.989302         -0.938692  ...                        -0.482845   \n",
              "4         -0.990441         -0.942469  ...                        -0.699205   \n",
              "\n",
              "   angle(tBodyAccMean,gravity)  angle(tBodyAccJerkMean),gravityMean)  \\\n",
              "0                    -0.112754                              0.030400   \n",
              "1                     0.053477                             -0.007435   \n",
              "2                    -0.118559                              0.177899   \n",
              "3                    -0.036788                             -0.012892   \n",
              "4                     0.123320                              0.122542   \n",
              "\n",
              "   angle(tBodyGyroMean,gravityMean)  angle(tBodyGyroJerkMean,gravityMean)  \\\n",
              "0                         -0.464761                             -0.018446   \n",
              "1                         -0.732626                              0.703511   \n",
              "2                          0.100699                              0.808529   \n",
              "3                          0.640011                             -0.485366   \n",
              "4                          0.693578                             -0.615971   \n",
              "\n",
              "   angle(X,gravityMean)  angle(Y,gravityMean)  angle(Z,gravityMean)  subject  \\\n",
              "0             -0.841247              0.179941             -0.058627        1   \n",
              "1             -0.844788              0.180289             -0.054317        1   \n",
              "2             -0.848933              0.180637             -0.049118        1   \n",
              "3             -0.848649              0.181935             -0.047663        1   \n",
              "4             -0.847865              0.185151             -0.043892        1   \n",
              "\n",
              "   Activity  \n",
              "0  STANDING  \n",
              "1  STANDING  \n",
              "2  STANDING  \n",
              "3  STANDING  \n",
              "4  STANDING  \n",
              "\n",
              "[5 rows x 563 columns]"
            ],
            "text/html": [
              "\n",
              "  <div id=\"df-b8e6c7e0-fc57-494f-9547-86f2ec2a42bd\">\n",
              "    <div class=\"colab-df-container\">\n",
              "      <div>\n",
              "<style scoped>\n",
              "    .dataframe tbody tr th:only-of-type {\n",
              "        vertical-align: middle;\n",
              "    }\n",
              "\n",
              "    .dataframe tbody tr th {\n",
              "        vertical-align: top;\n",
              "    }\n",
              "\n",
              "    .dataframe thead th {\n",
              "        text-align: right;\n",
              "    }\n",
              "</style>\n",
              "<table border=\"1\" class=\"dataframe\">\n",
              "  <thead>\n",
              "    <tr style=\"text-align: right;\">\n",
              "      <th></th>\n",
              "      <th>tBodyAcc-mean()-X</th>\n",
              "      <th>tBodyAcc-mean()-Y</th>\n",
              "      <th>tBodyAcc-mean()-Z</th>\n",
              "      <th>tBodyAcc-std()-X</th>\n",
              "      <th>tBodyAcc-std()-Y</th>\n",
              "      <th>tBodyAcc-std()-Z</th>\n",
              "      <th>tBodyAcc-mad()-X</th>\n",
              "      <th>tBodyAcc-mad()-Y</th>\n",
              "      <th>tBodyAcc-mad()-Z</th>\n",
              "      <th>tBodyAcc-max()-X</th>\n",
              "      <th>...</th>\n",
              "      <th>fBodyBodyGyroJerkMag-kurtosis()</th>\n",
              "      <th>angle(tBodyAccMean,gravity)</th>\n",
              "      <th>angle(tBodyAccJerkMean),gravityMean)</th>\n",
              "      <th>angle(tBodyGyroMean,gravityMean)</th>\n",
              "      <th>angle(tBodyGyroJerkMean,gravityMean)</th>\n",
              "      <th>angle(X,gravityMean)</th>\n",
              "      <th>angle(Y,gravityMean)</th>\n",
              "      <th>angle(Z,gravityMean)</th>\n",
              "      <th>subject</th>\n",
              "      <th>Activity</th>\n",
              "    </tr>\n",
              "  </thead>\n",
              "  <tbody>\n",
              "    <tr>\n",
              "      <th>0</th>\n",
              "      <td>0.288585</td>\n",
              "      <td>-0.020294</td>\n",
              "      <td>-0.132905</td>\n",
              "      <td>-0.995279</td>\n",
              "      <td>-0.983111</td>\n",
              "      <td>-0.913526</td>\n",
              "      <td>-0.995112</td>\n",
              "      <td>-0.983185</td>\n",
              "      <td>-0.923527</td>\n",
              "      <td>-0.934724</td>\n",
              "      <td>...</td>\n",
              "      <td>-0.710304</td>\n",
              "      <td>-0.112754</td>\n",
              "      <td>0.030400</td>\n",
              "      <td>-0.464761</td>\n",
              "      <td>-0.018446</td>\n",
              "      <td>-0.841247</td>\n",
              "      <td>0.179941</td>\n",
              "      <td>-0.058627</td>\n",
              "      <td>1</td>\n",
              "      <td>STANDING</td>\n",
              "    </tr>\n",
              "    <tr>\n",
              "      <th>1</th>\n",
              "      <td>0.278419</td>\n",
              "      <td>-0.016411</td>\n",
              "      <td>-0.123520</td>\n",
              "      <td>-0.998245</td>\n",
              "      <td>-0.975300</td>\n",
              "      <td>-0.960322</td>\n",
              "      <td>-0.998807</td>\n",
              "      <td>-0.974914</td>\n",
              "      <td>-0.957686</td>\n",
              "      <td>-0.943068</td>\n",
              "      <td>...</td>\n",
              "      <td>-0.861499</td>\n",
              "      <td>0.053477</td>\n",
              "      <td>-0.007435</td>\n",
              "      <td>-0.732626</td>\n",
              "      <td>0.703511</td>\n",
              "      <td>-0.844788</td>\n",
              "      <td>0.180289</td>\n",
              "      <td>-0.054317</td>\n",
              "      <td>1</td>\n",
              "      <td>STANDING</td>\n",
              "    </tr>\n",
              "    <tr>\n",
              "      <th>2</th>\n",
              "      <td>0.279653</td>\n",
              "      <td>-0.019467</td>\n",
              "      <td>-0.113462</td>\n",
              "      <td>-0.995380</td>\n",
              "      <td>-0.967187</td>\n",
              "      <td>-0.978944</td>\n",
              "      <td>-0.996520</td>\n",
              "      <td>-0.963668</td>\n",
              "      <td>-0.977469</td>\n",
              "      <td>-0.938692</td>\n",
              "      <td>...</td>\n",
              "      <td>-0.760104</td>\n",
              "      <td>-0.118559</td>\n",
              "      <td>0.177899</td>\n",
              "      <td>0.100699</td>\n",
              "      <td>0.808529</td>\n",
              "      <td>-0.848933</td>\n",
              "      <td>0.180637</td>\n",
              "      <td>-0.049118</td>\n",
              "      <td>1</td>\n",
              "      <td>STANDING</td>\n",
              "    </tr>\n",
              "    <tr>\n",
              "      <th>3</th>\n",
              "      <td>0.279174</td>\n",
              "      <td>-0.026201</td>\n",
              "      <td>-0.123283</td>\n",
              "      <td>-0.996091</td>\n",
              "      <td>-0.983403</td>\n",
              "      <td>-0.990675</td>\n",
              "      <td>-0.997099</td>\n",
              "      <td>-0.982750</td>\n",
              "      <td>-0.989302</td>\n",
              "      <td>-0.938692</td>\n",
              "      <td>...</td>\n",
              "      <td>-0.482845</td>\n",
              "      <td>-0.036788</td>\n",
              "      <td>-0.012892</td>\n",
              "      <td>0.640011</td>\n",
              "      <td>-0.485366</td>\n",
              "      <td>-0.848649</td>\n",
              "      <td>0.181935</td>\n",
              "      <td>-0.047663</td>\n",
              "      <td>1</td>\n",
              "      <td>STANDING</td>\n",
              "    </tr>\n",
              "    <tr>\n",
              "      <th>4</th>\n",
              "      <td>0.276629</td>\n",
              "      <td>-0.016570</td>\n",
              "      <td>-0.115362</td>\n",
              "      <td>-0.998139</td>\n",
              "      <td>-0.980817</td>\n",
              "      <td>-0.990482</td>\n",
              "      <td>-0.998321</td>\n",
              "      <td>-0.979672</td>\n",
              "      <td>-0.990441</td>\n",
              "      <td>-0.942469</td>\n",
              "      <td>...</td>\n",
              "      <td>-0.699205</td>\n",
              "      <td>0.123320</td>\n",
              "      <td>0.122542</td>\n",
              "      <td>0.693578</td>\n",
              "      <td>-0.615971</td>\n",
              "      <td>-0.847865</td>\n",
              "      <td>0.185151</td>\n",
              "      <td>-0.043892</td>\n",
              "      <td>1</td>\n",
              "      <td>STANDING</td>\n",
              "    </tr>\n",
              "  </tbody>\n",
              "</table>\n",
              "<p>5 rows × 563 columns</p>\n",
              "</div>\n",
              "      <button class=\"colab-df-convert\" onclick=\"convertToInteractive('df-b8e6c7e0-fc57-494f-9547-86f2ec2a42bd')\"\n",
              "              title=\"Convert this dataframe to an interactive table.\"\n",
              "              style=\"display:none;\">\n",
              "        \n",
              "  <svg xmlns=\"http://www.w3.org/2000/svg\" height=\"24px\"viewBox=\"0 0 24 24\"\n",
              "       width=\"24px\">\n",
              "    <path d=\"M0 0h24v24H0V0z\" fill=\"none\"/>\n",
              "    <path d=\"M18.56 5.44l.94 2.06.94-2.06 2.06-.94-2.06-.94-.94-2.06-.94 2.06-2.06.94zm-11 1L8.5 8.5l.94-2.06 2.06-.94-2.06-.94L8.5 2.5l-.94 2.06-2.06.94zm10 10l.94 2.06.94-2.06 2.06-.94-2.06-.94-.94-2.06-.94 2.06-2.06.94z\"/><path d=\"M17.41 7.96l-1.37-1.37c-.4-.4-.92-.59-1.43-.59-.52 0-1.04.2-1.43.59L10.3 9.45l-7.72 7.72c-.78.78-.78 2.05 0 2.83L4 21.41c.39.39.9.59 1.41.59.51 0 1.02-.2 1.41-.59l7.78-7.78 2.81-2.81c.8-.78.8-2.07 0-2.86zM5.41 20L4 18.59l7.72-7.72 1.47 1.35L5.41 20z\"/>\n",
              "  </svg>\n",
              "      </button>\n",
              "      \n",
              "  <style>\n",
              "    .colab-df-container {\n",
              "      display:flex;\n",
              "      flex-wrap:wrap;\n",
              "      gap: 12px;\n",
              "    }\n",
              "\n",
              "    .colab-df-convert {\n",
              "      background-color: #E8F0FE;\n",
              "      border: none;\n",
              "      border-radius: 50%;\n",
              "      cursor: pointer;\n",
              "      display: none;\n",
              "      fill: #1967D2;\n",
              "      height: 32px;\n",
              "      padding: 0 0 0 0;\n",
              "      width: 32px;\n",
              "    }\n",
              "\n",
              "    .colab-df-convert:hover {\n",
              "      background-color: #E2EBFA;\n",
              "      box-shadow: 0px 1px 2px rgba(60, 64, 67, 0.3), 0px 1px 3px 1px rgba(60, 64, 67, 0.15);\n",
              "      fill: #174EA6;\n",
              "    }\n",
              "\n",
              "    [theme=dark] .colab-df-convert {\n",
              "      background-color: #3B4455;\n",
              "      fill: #D2E3FC;\n",
              "    }\n",
              "\n",
              "    [theme=dark] .colab-df-convert:hover {\n",
              "      background-color: #434B5C;\n",
              "      box-shadow: 0px 1px 3px 1px rgba(0, 0, 0, 0.15);\n",
              "      filter: drop-shadow(0px 1px 2px rgba(0, 0, 0, 0.3));\n",
              "      fill: #FFFFFF;\n",
              "    }\n",
              "  </style>\n",
              "\n",
              "      <script>\n",
              "        const buttonEl =\n",
              "          document.querySelector('#df-b8e6c7e0-fc57-494f-9547-86f2ec2a42bd button.colab-df-convert');\n",
              "        buttonEl.style.display =\n",
              "          google.colab.kernel.accessAllowed ? 'block' : 'none';\n",
              "\n",
              "        async function convertToInteractive(key) {\n",
              "          const element = document.querySelector('#df-b8e6c7e0-fc57-494f-9547-86f2ec2a42bd');\n",
              "          const dataTable =\n",
              "            await google.colab.kernel.invokeFunction('convertToInteractive',\n",
              "                                                     [key], {});\n",
              "          if (!dataTable) return;\n",
              "\n",
              "          const docLinkHtml = 'Like what you see? Visit the ' +\n",
              "            '<a target=\"_blank\" href=https://colab.research.google.com/notebooks/data_table.ipynb>data table notebook</a>'\n",
              "            + ' to learn more about interactive tables.';\n",
              "          element.innerHTML = '';\n",
              "          dataTable['output_type'] = 'display_data';\n",
              "          await google.colab.output.renderOutput(dataTable, element);\n",
              "          const docLink = document.createElement('div');\n",
              "          docLink.innerHTML = docLinkHtml;\n",
              "          element.appendChild(docLink);\n",
              "        }\n",
              "      </script>\n",
              "    </div>\n",
              "  </div>\n",
              "  "
            ]
          },
          "metadata": {},
          "execution_count": 9
        }
      ],
      "source": [
        "import os\n",
        "import numpy as np\n",
        "import pandas as pd\n",
        "\n",
        "def read_data(path, filename):\n",
        "    return pd.read_csv(os.path.join(path, filename))\n",
        "\n",
        "df = read_data('/content/drive/MyDrive/Colab Notebooks', 'train.csv')\n",
        "df.head()"
      ]
    },
    {
      "cell_type": "markdown",
      "source": [
        "Загрузка полного набора данных, создание необходимых переменных:\n",
        "* `train_X`: признаки для обучения модели\n",
        "* `train_y`: метки для обучения модели\n",
        "* `test_X`: признаки для проверки модели\n",
        "* `test_y`: метки для проверки модели"
      ],
      "metadata": {
        "id": "GfMcOYWdbbDj"
      }
    },
    {
      "cell_type": "code",
      "source": [
        "def load_dataset(label_dict):\n",
        "    train_X = read_data('/content/drive/MyDrive/Colab Notebooks', 'train.csv').values[:,:-2]\n",
        "    train_y = read_data('/content/drive/MyDrive/Colab Notebooks', 'train.csv')['Activity']\n",
        "    train_y = train_y.map(label_dict).values\n",
        "    test_X = read_data('/content/drive/MyDrive/Colab Notebooks', 'test.csv').values[:,:-2]\n",
        "    test_y = read_data('/content/drive/MyDrive/Colab Notebooks', 'test.csv')\n",
        "    test_y = test_y['Activity'].map(label_dict).values\n",
        "    return(train_X, train_y, test_X, test_y)\n",
        "\n",
        "label_dict = {'WALKING':0, 'WALKING_UPSTAIRS':1, 'WALKING_DOWNSTAIRS':2, 'SITTING':3, 'STANDING':4, 'LAYING':5}\n",
        "train_X, train_y, test_X, test_y = load_dataset(label_dict)"
      ],
      "metadata": {
        "id": "kkO_7HmpMv3c"
      },
      "execution_count": 10,
      "outputs": []
    },
    {
      "cell_type": "markdown",
      "source": [
        "#Создание и обучение моделей"
      ],
      "metadata": {
        "id": "pOv86ZmTb0ik"
      }
    },
    {
      "cell_type": "markdown",
      "source": [
        "Для этой практической работы я выбрала три алгоритма:\n",
        "* Support Vector Machines\n",
        "* Stochastic gradient descent\n",
        "* k-nearest neighbors algorithm\n",
        "\n",
        "\n",
        "\n",
        "---\n",
        "\n",
        "\n"
      ],
      "metadata": {
        "id": "_FiisypHb4XB"
      }
    },
    {
      "cell_type": "markdown",
      "source": [
        "подбор параметров для моделей"
      ],
      "metadata": {
        "id": "E6R4bvb4E7kJ"
      }
    },
    {
      "cell_type": "code",
      "source": [
        "from sklearn.model_selection import RandomizedSearchCV\n",
        "from sklearn.svm import SVC\n",
        "from scipy.stats import reciprocal, uniform\n",
        "\n",
        "param_distributions_svc = {\"gamma\": reciprocal(0.001, 0.1), \"C\": uniform(1, 10)}\n",
        "svc = SVC()\n",
        "rsc_svc = RandomizedSearchCV(estimator=svc, param_distributions=param_distributions_svc)\n",
        "rsc_svc.fit(train_X, train_y)\n",
        "rsc_svc.best_estimator_"
      ],
      "metadata": {
        "id": "UoYLysJ7_9oo",
        "outputId": "25f370e1-6861-4a81-e074-eba7a56fa7cc",
        "colab": {
          "base_uri": "https://localhost:8080/"
        }
      },
      "execution_count": 11,
      "outputs": [
        {
          "output_type": "execute_result",
          "data": {
            "text/plain": [
              "SVC(C=9.317042688919267, gamma=0.012370392178733713)"
            ]
          },
          "metadata": {},
          "execution_count": 11
        }
      ]
    },
    {
      "cell_type": "code",
      "source": [
        "from sklearn.neighbors import KNeighborsClassifier as knc\n",
        "param_distributions_knn = {\"n_neighbors\": np.arange(1, 200) }\n",
        "knn = knc()\n",
        "\n",
        "rsc_knn = RandomizedSearchCV(estimator=knn, param_distributions=param_distributions_knn)\n",
        "rsc_knn.fit(train_X, train_y)\n",
        "rsc_knn.best_estimator_"
      ],
      "metadata": {
        "id": "v_lzaVWFFfcT",
        "outputId": "ef746d92-f21d-4608-ca7e-4b9cd628414c",
        "colab": {
          "base_uri": "https://localhost:8080/"
        }
      },
      "execution_count": 19,
      "outputs": [
        {
          "output_type": "execute_result",
          "data": {
            "text/plain": [
              "KNeighborsClassifier(n_neighbors=49)"
            ]
          },
          "metadata": {},
          "execution_count": 19
        }
      ]
    },
    {
      "cell_type": "code",
      "source": [
        "from sklearn.linear_model import SGDClassifier as sgdc\n",
        "sgd = sgdc()\n",
        "param_distributions_sgd = {'alpha': [1e-4, 1e-3, 1e-2, 1e-1, 1e0, 1e1, 1e2, 1e3], # learning rate\n",
        "    'max_iter': np.arange(1, 1000)}\n",
        "rsc_sgd = RandomizedSearchCV(estimator=sgd, param_distributions=param_distributions_sgd)\n",
        "rsc_sgd.fit(train_X, train_y)\n",
        "rsc_sgd.best_estimator_"
      ],
      "metadata": {
        "id": "TAqpS_6vH1qA",
        "outputId": "e6cdb803-a291-482f-9b5d-f95f9f2ba9d0",
        "colab": {
          "base_uri": "https://localhost:8080/"
        }
      },
      "execution_count": 37,
      "outputs": [
        {
          "output_type": "execute_result",
          "data": {
            "text/plain": [
              "SGDClassifier(alpha=0.01, max_iter=379)"
            ]
          },
          "metadata": {},
          "execution_count": 37
        }
      ]
    },
    {
      "cell_type": "markdown",
      "source": [
        "инициализация моделей"
      ],
      "metadata": {
        "id": "_cyNIY6nTL_R"
      }
    },
    {
      "cell_type": "code",
      "source": [
        "model_svc = SVC(C=9.317042688919267, gamma=0.012370392178733713)\n",
        "model_knn = knc(n_neighbors=49)\n",
        "model_sgd = sgdc(alpha=0.01, max_iter=379)"
      ],
      "metadata": {
        "id": "4JS_gu3RNhgB"
      },
      "execution_count": 38,
      "outputs": []
    },
    {
      "cell_type": "markdown",
      "source": [
        "обучение моделей и прогнозирование\n",
        "\n"
      ],
      "metadata": {
        "id": "48Ly1UZTe84s"
      }
    },
    {
      "cell_type": "code",
      "source": [
        "model_svc.fit(train_X, train_y)\n",
        "yhat_svc = model_svc.predict(test_X)\n",
        "\n",
        "model_knn.fit(train_X, train_y)\n",
        "yhat_knn = model_knn.predict(test_X)\n",
        "\n",
        "model_sgd.fit(train_X, train_y)\n",
        "yhat_sgd = model_sgd.predict(test_X)"
      ],
      "metadata": {
        "id": "q57McUYuNjFu"
      },
      "execution_count": 39,
      "outputs": []
    },
    {
      "cell_type": "markdown",
      "source": [
        "импорт библиотеки для отчета результатов классификации и создание массива target_names"
      ],
      "metadata": {
        "id": "AH3-h7-Ze_mI"
      }
    },
    {
      "cell_type": "code",
      "source": [
        "from sklearn.metrics import classification_report\n",
        "target_names = ['Walking', 'Walking Upstairs', 'Walking Downstairs', 'Sitting', 'Standing', 'Laying']"
      ],
      "metadata": {
        "id": "k2bw3MIYwXbo"
      },
      "execution_count": 40,
      "outputs": []
    },
    {
      "cell_type": "markdown",
      "source": [
        "#Результаты классификации разных моделей"
      ],
      "metadata": {
        "id": "TfIA15safN8O"
      }
    },
    {
      "cell_type": "code",
      "source": [
        "print(\"\\nClassification report for SVM\\n\")\n",
        "print(classification_report(test_y, yhat_svc, target_names=target_names))"
      ],
      "metadata": {
        "colab": {
          "base_uri": "https://localhost:8080/"
        },
        "id": "brnp22YaMu9O",
        "outputId": "36d075c4-287b-4a78-afc2-643bad1b5fac"
      },
      "execution_count": 41,
      "outputs": [
        {
          "output_type": "stream",
          "name": "stdout",
          "text": [
            "\n",
            "Classification report for SVM\n",
            "\n",
            "                    precision    recall  f1-score   support\n",
            "\n",
            "           Walking       0.96      0.98      0.97       496\n",
            "  Walking Upstairs       0.94      0.97      0.96       471\n",
            "Walking Downstairs       0.99      0.94      0.97       420\n",
            "           Sitting       0.98      0.90      0.93       491\n",
            "          Standing       0.91      0.98      0.95       532\n",
            "            Laying       1.00      1.00      1.00       537\n",
            "\n",
            "          accuracy                           0.96      2947\n",
            "         macro avg       0.96      0.96      0.96      2947\n",
            "      weighted avg       0.96      0.96      0.96      2947\n",
            "\n"
          ]
        }
      ]
    },
    {
      "cell_type": "code",
      "source": [
        "print(\"\\nClassification report for KNN\\n\")\n",
        "print(classification_report(test_y, yhat_knn, target_names=target_names))"
      ],
      "metadata": {
        "colab": {
          "base_uri": "https://localhost:8080/"
        },
        "id": "2KmHeCejvia4",
        "outputId": "79db1643-d126-43bc-a3d5-08187ac75ef9"
      },
      "execution_count": 42,
      "outputs": [
        {
          "output_type": "stream",
          "name": "stdout",
          "text": [
            "\n",
            "Classification report for KNN\n",
            "\n",
            "                    precision    recall  f1-score   support\n",
            "\n",
            "           Walking       0.83      0.99      0.90       496\n",
            "  Walking Upstairs       0.90      0.91      0.91       471\n",
            "Walking Downstairs       0.98      0.75      0.85       420\n",
            "           Sitting       0.92      0.76      0.83       491\n",
            "          Standing       0.81      0.94      0.87       532\n",
            "            Laying       1.00      0.99      1.00       537\n",
            "\n",
            "          accuracy                           0.90      2947\n",
            "         macro avg       0.91      0.89      0.89      2947\n",
            "      weighted avg       0.90      0.90      0.89      2947\n",
            "\n"
          ]
        }
      ]
    },
    {
      "cell_type": "code",
      "source": [
        "print(\"\\nClassification report for SGD\\n\")\n",
        "print(classification_report(test_y, yhat_sgd, target_names=target_names))"
      ],
      "metadata": {
        "colab": {
          "base_uri": "https://localhost:8080/"
        },
        "id": "4NwfWt9cxMbf",
        "outputId": "6461a418-e067-4b0e-e7c4-79b9b2a30ad5"
      },
      "execution_count": 43,
      "outputs": [
        {
          "output_type": "stream",
          "name": "stdout",
          "text": [
            "\n",
            "Classification report for SGD\n",
            "\n",
            "                    precision    recall  f1-score   support\n",
            "\n",
            "           Walking       0.90      1.00      0.95       496\n",
            "  Walking Upstairs       0.96      0.91      0.94       471\n",
            "Walking Downstairs       0.99      0.94      0.96       420\n",
            "           Sitting       0.93      0.90      0.92       491\n",
            "          Standing       0.92      0.93      0.93       532\n",
            "            Laying       0.99      1.00      1.00       537\n",
            "\n",
            "          accuracy                           0.95      2947\n",
            "         macro avg       0.95      0.95      0.95      2947\n",
            "      weighted avg       0.95      0.95      0.95      2947\n",
            "\n"
          ]
        }
      ]
    }
  ]
}